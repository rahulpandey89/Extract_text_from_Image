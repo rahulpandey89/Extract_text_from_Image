{
 "cells": [
  {
   "cell_type": "markdown",
   "metadata": {},
   "source": [
    "## Importing all Python Libraries"
   ]
  },
  {
   "cell_type": "markdown",
   "metadata": {},
   "source": [
    "## Registring One apikey in ocr.space to get a api key and pass our image to that OCR and that OCR will extract Text of Image "
   ]
  },
  {
   "cell_type": "code",
   "execution_count": 8,
   "metadata": {},
   "outputs": [
    {
     "name": "stdout",
     "output_type": "stream",
     "text": [
      "The information revolution has a\r\n",
      "long way to run\r\n",
      "The information revolution is the most subversive force business has ever\r\n",
      "known. Already the phenomenon of 'information power to the people'\r\n",
      "has given knowledge and authority to front-line workers and techni-\r\n",
      "cians, destroying the power and often the jobs of middle management\r\n",
      "who were previously protected by proprietary knowledge. The informa-\r\n",
      "•tion revolution has also decentralized corporations physically: the phone,\r\n",
      "the PC, broadband and the increasing miniaturization and mobility ot-\r\n",
      "these technologies have already begun to destroy the power ot-corporate\r\n",
      "\n"
     ]
    }
   ],
   "source": [
    "import cv2\n",
    "import numpy as np\n",
    "import requests\n",
    "import io\n",
    "import json\n",
    "\n",
    "img = cv2.imread(\"C:/Users/admin/Desktop/ocr_with_api/screenshot.jpg\")\n",
    "height, width, _ = img.shape\n",
    "\n",
    "# Cutting image\n",
    "# roi = img[0: height, 400: width]\n",
    "roi = img\n",
    "\n",
    "# Ocr\n",
    "url_api = \"https://api.ocr.space/parse/image\"\n",
    "_, compressedimage = cv2.imencode(\".jpg\", roi, [1, 90])\n",
    "file_bytes = io.BytesIO(compressedimage)\n",
    "\n",
    "result = requests.post(url_api,\n",
    "              files = {\"screenshot.jpg\": file_bytes},\n",
    "              data = {\"apikey\": \"b01219adcc88957\",\n",
    "                      \"language\": \"eng\"})\n",
    "\n",
    "result = result.content.decode()\n",
    "result = json.loads(result)\n",
    "\n",
    "parsed_results = result.get(\"ParsedResults\")[0]\n",
    "text_detected = parsed_results.get(\"ParsedText\")\n",
    "print(text_detected)\n",
    "\n",
    "cv2.imshow(\"roi\", roi)\n",
    "cv2.imshow(\"Img\", img)\n",
    "cv2.waitKey(0)\n",
    "cv2.destroyAllWindows()"
   ]
  },
  {
   "cell_type": "code",
   "execution_count": 9,
   "metadata": {},
   "outputs": [
    {
     "name": "stdout",
     "output_type": "stream",
     "text": [
      "{'ParsedResults': [{'TextOverlay': {'Lines': [], 'HasOverlay': False, 'Message': 'Text overlay is not provided as it is not requested'}, 'TextOrientation': '0', 'FileParseExitCode': 1, 'ParsedText': \"The information revolution has a\\r\\nlong way to run\\r\\nThe information revolution is the most subversive force business has ever\\r\\nknown. Already the phenomenon of 'information power to the people'\\r\\nhas given knowledge and authority to front-line workers and techni-\\r\\ncians, destroying the power and often the jobs of middle management\\r\\nwho were previously protected by proprietary knowledge. The informa-\\r\\n•tion revolution has also decentralized corporations physically: the phone,\\r\\nthe PC, broadband and the increasing miniaturization and mobility ot-\\r\\nthese technologies have already begun to destroy the power ot-corporate\\r\\n\", 'ErrorMessage': '', 'ErrorDetails': ''}], 'OCRExitCode': 1, 'IsErroredOnProcessing': False, 'ProcessingTimeInMilliseconds': '796', 'SearchablePDFURL': 'Searchable PDF not generated as it was not requested.'}\n"
     ]
    }
   ],
   "source": [
    "print(result)"
   ]
  },
  {
   "cell_type": "code",
   "execution_count": 10,
   "metadata": {},
   "outputs": [],
   "source": [
    "result=requests.post(url_api,files={r\"C:/Users/admin/Desktop/vehicle.jpg\":file_bytes},data={\"apikey\":\"b01219adcc88957\"})"
   ]
  },
  {
   "cell_type": "code",
   "execution_count": 11,
   "metadata": {},
   "outputs": [
    {
     "data": {
      "text/plain": [
       "'{\"OCRExitCode\":3,\"IsErroredOnProcessing\":true,\"ErrorMessage\":[\"File failed validation. File must have size greater than 0\"],\"ErrorDetails\":\"\",\"ProcessingTimeInMilliseconds\":\"0\"}'"
      ]
     },
     "execution_count": 11,
     "metadata": {},
     "output_type": "execute_result"
    }
   ],
   "source": [
    "result.content.decode()"
   ]
  }
 ],
 "metadata": {
  "kernelspec": {
   "display_name": "Python 3",
   "language": "python",
   "name": "python3"
  },
  "language_info": {
   "codemirror_mode": {
    "name": "ipython",
    "version": 3
   },
   "file_extension": ".py",
   "mimetype": "text/x-python",
   "name": "python",
   "nbconvert_exporter": "python",
   "pygments_lexer": "ipython3",
   "version": "3.7.1"
  }
 },
 "nbformat": 4,
 "nbformat_minor": 2
}
